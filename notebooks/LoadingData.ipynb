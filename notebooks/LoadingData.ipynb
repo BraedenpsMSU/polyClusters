{
 "cells": [
  {
   "cell_type": "code",
   "execution_count": 3,
   "metadata": {
    "collapsed": true
   },
   "outputs": [],
   "source": [
    "import pandas\n",
    "from pandas import DataFrame"
   ]
  },
  {
   "cell_type": "code",
   "execution_count": 5,
   "outputs": [],
   "source": [
    "genes = pandas.read_csv('../gene.csv')\n",
    "taxon = pandas.read_csv('../taxon.csv')\n",
    "assm = pandas.read_csv('../assembly.csv')\n",
    "protein = pandas.read_csv('../protein.csv')\n"
   ],
   "metadata": {
    "collapsed": false
   }
  },
  {
   "cell_type": "code",
   "execution_count": 6,
   "outputs": [
    {
     "data": {
      "text/plain": "   gene_id gene_symbol  proteins_for_gene         assembly  taxon_id  \\\n0   877794        polA                  1  GCF_000006765.1    208964   \n1   878669        polB                  1  GCF_000006765.1    208964   \n2   880686      PA0669                  1  GCF_000006765.1    208964   \n3   881987        dinB                  1  GCF_000006765.1    208964   \n4   880490        dnaE                  1  GCF_000006765.1    208964   \n5   880683      PA0670                  1  GCF_000006765.1    208964   \n\n                        description  \n0                  DNA polymerase I  \n1                 DNA polymerase II  \n2        error-prone DNA polymerase  \n3                 DNA polymerase IV  \n4  DNA polymerase III subunit alpha  \n5              hypothetical protein  ",
      "text/html": "<div>\n<style scoped>\n    .dataframe tbody tr th:only-of-type {\n        vertical-align: middle;\n    }\n\n    .dataframe tbody tr th {\n        vertical-align: top;\n    }\n\n    .dataframe thead th {\n        text-align: right;\n    }\n</style>\n<table border=\"1\" class=\"dataframe\">\n  <thead>\n    <tr style=\"text-align: right;\">\n      <th></th>\n      <th>gene_id</th>\n      <th>gene_symbol</th>\n      <th>proteins_for_gene</th>\n      <th>assembly</th>\n      <th>taxon_id</th>\n      <th>description</th>\n    </tr>\n  </thead>\n  <tbody>\n    <tr>\n      <th>0</th>\n      <td>877794</td>\n      <td>polA</td>\n      <td>1</td>\n      <td>GCF_000006765.1</td>\n      <td>208964</td>\n      <td>DNA polymerase I</td>\n    </tr>\n    <tr>\n      <th>1</th>\n      <td>878669</td>\n      <td>polB</td>\n      <td>1</td>\n      <td>GCF_000006765.1</td>\n      <td>208964</td>\n      <td>DNA polymerase II</td>\n    </tr>\n    <tr>\n      <th>2</th>\n      <td>880686</td>\n      <td>PA0669</td>\n      <td>1</td>\n      <td>GCF_000006765.1</td>\n      <td>208964</td>\n      <td>error-prone DNA polymerase</td>\n    </tr>\n    <tr>\n      <th>3</th>\n      <td>881987</td>\n      <td>dinB</td>\n      <td>1</td>\n      <td>GCF_000006765.1</td>\n      <td>208964</td>\n      <td>DNA polymerase IV</td>\n    </tr>\n    <tr>\n      <th>4</th>\n      <td>880490</td>\n      <td>dnaE</td>\n      <td>1</td>\n      <td>GCF_000006765.1</td>\n      <td>208964</td>\n      <td>DNA polymerase III subunit alpha</td>\n    </tr>\n    <tr>\n      <th>5</th>\n      <td>880683</td>\n      <td>PA0670</td>\n      <td>1</td>\n      <td>GCF_000006765.1</td>\n      <td>208964</td>\n      <td>hypothetical protein</td>\n    </tr>\n  </tbody>\n</table>\n</div>"
     },
     "execution_count": 6,
     "metadata": {},
     "output_type": "execute_result"
    }
   ],
   "source": [
    "genes"
   ],
   "metadata": {
    "collapsed": false
   }
  },
  {
   "cell_type": "code",
   "execution_count": 7,
   "outputs": [
    {
     "data": {
      "text/plain": "   protein_id                                      protein_title  cdd_id  \\\n0    15600686     DNA polymerase I [Pseudomonas aeruginosa PAO1]  235591   \n1    15597083    DNA polymerase II [Pseudomonas aeruginosa PAO1]  235595   \n2    15596120    DNA polymerase IV [Pseudomonas aeruginosa PAO1]  235035   \n3   308154503  error-prone DNA polymerase [Pseudomonas aerugi...  235553   \n4    15598836  DNA polymerase III subunit alpha [Pseudomonas ...  235554   \n5    15595867  hypothetical protein PA0670 [Pseudomonas aerug...  176458   \n\n   gene_id  taxon_id poly_type  \n0   877794    208964         A  \n1   878669    208964         B  \n2   881987    208964         Y  \n3   880686    208964         C  \n4   880490    208964         C  \n5   880683    208964         Y  ",
      "text/html": "<div>\n<style scoped>\n    .dataframe tbody tr th:only-of-type {\n        vertical-align: middle;\n    }\n\n    .dataframe tbody tr th {\n        vertical-align: top;\n    }\n\n    .dataframe thead th {\n        text-align: right;\n    }\n</style>\n<table border=\"1\" class=\"dataframe\">\n  <thead>\n    <tr style=\"text-align: right;\">\n      <th></th>\n      <th>protein_id</th>\n      <th>protein_title</th>\n      <th>cdd_id</th>\n      <th>gene_id</th>\n      <th>taxon_id</th>\n      <th>poly_type</th>\n    </tr>\n  </thead>\n  <tbody>\n    <tr>\n      <th>0</th>\n      <td>15600686</td>\n      <td>DNA polymerase I [Pseudomonas aeruginosa PAO1]</td>\n      <td>235591</td>\n      <td>877794</td>\n      <td>208964</td>\n      <td>A</td>\n    </tr>\n    <tr>\n      <th>1</th>\n      <td>15597083</td>\n      <td>DNA polymerase II [Pseudomonas aeruginosa PAO1]</td>\n      <td>235595</td>\n      <td>878669</td>\n      <td>208964</td>\n      <td>B</td>\n    </tr>\n    <tr>\n      <th>2</th>\n      <td>15596120</td>\n      <td>DNA polymerase IV [Pseudomonas aeruginosa PAO1]</td>\n      <td>235035</td>\n      <td>881987</td>\n      <td>208964</td>\n      <td>Y</td>\n    </tr>\n    <tr>\n      <th>3</th>\n      <td>308154503</td>\n      <td>error-prone DNA polymerase [Pseudomonas aerugi...</td>\n      <td>235553</td>\n      <td>880686</td>\n      <td>208964</td>\n      <td>C</td>\n    </tr>\n    <tr>\n      <th>4</th>\n      <td>15598836</td>\n      <td>DNA polymerase III subunit alpha [Pseudomonas ...</td>\n      <td>235554</td>\n      <td>880490</td>\n      <td>208964</td>\n      <td>C</td>\n    </tr>\n    <tr>\n      <th>5</th>\n      <td>15595867</td>\n      <td>hypothetical protein PA0670 [Pseudomonas aerug...</td>\n      <td>176458</td>\n      <td>880683</td>\n      <td>208964</td>\n      <td>Y</td>\n    </tr>\n  </tbody>\n</table>\n</div>"
     },
     "execution_count": 7,
     "metadata": {},
     "output_type": "execute_result"
    }
   ],
   "source": [
    "protein"
   ],
   "metadata": {
    "collapsed": false
   }
  },
  {
   "cell_type": "code",
   "execution_count": 8,
   "outputs": [
    {
     "data": {
      "text/plain": "   protein_id                                      protein_title  cdd_id  \\\n0    15600686     DNA polymerase I [Pseudomonas aeruginosa PAO1]  235591   \n1    15597083    DNA polymerase II [Pseudomonas aeruginosa PAO1]  235595   \n2    15596120    DNA polymerase IV [Pseudomonas aeruginosa PAO1]  235035   \n3   308154503  error-prone DNA polymerase [Pseudomonas aerugi...  235553   \n4    15598836  DNA polymerase III subunit alpha [Pseudomonas ...  235554   \n5    15595867  hypothetical protein PA0670 [Pseudomonas aerug...  176458   \n\n   gene_id  taxon_id_x poly_type gene_symbol  proteins_for_gene  \\\n0   877794      208964         A        polA                  1   \n1   878669      208964         B        polB                  1   \n2   881987      208964         Y        dinB                  1   \n3   880686      208964         C      PA0669                  1   \n4   880490      208964         C        dnaE                  1   \n5   880683      208964         Y      PA0670                  1   \n\n          assembly  taxon_id_y                       description  \n0  GCF_000006765.1      208964                  DNA polymerase I  \n1  GCF_000006765.1      208964                 DNA polymerase II  \n2  GCF_000006765.1      208964                 DNA polymerase IV  \n3  GCF_000006765.1      208964        error-prone DNA polymerase  \n4  GCF_000006765.1      208964  DNA polymerase III subunit alpha  \n5  GCF_000006765.1      208964              hypothetical protein  ",
      "text/html": "<div>\n<style scoped>\n    .dataframe tbody tr th:only-of-type {\n        vertical-align: middle;\n    }\n\n    .dataframe tbody tr th {\n        vertical-align: top;\n    }\n\n    .dataframe thead th {\n        text-align: right;\n    }\n</style>\n<table border=\"1\" class=\"dataframe\">\n  <thead>\n    <tr style=\"text-align: right;\">\n      <th></th>\n      <th>protein_id</th>\n      <th>protein_title</th>\n      <th>cdd_id</th>\n      <th>gene_id</th>\n      <th>taxon_id_x</th>\n      <th>poly_type</th>\n      <th>gene_symbol</th>\n      <th>proteins_for_gene</th>\n      <th>assembly</th>\n      <th>taxon_id_y</th>\n      <th>description</th>\n    </tr>\n  </thead>\n  <tbody>\n    <tr>\n      <th>0</th>\n      <td>15600686</td>\n      <td>DNA polymerase I [Pseudomonas aeruginosa PAO1]</td>\n      <td>235591</td>\n      <td>877794</td>\n      <td>208964</td>\n      <td>A</td>\n      <td>polA</td>\n      <td>1</td>\n      <td>GCF_000006765.1</td>\n      <td>208964</td>\n      <td>DNA polymerase I</td>\n    </tr>\n    <tr>\n      <th>1</th>\n      <td>15597083</td>\n      <td>DNA polymerase II [Pseudomonas aeruginosa PAO1]</td>\n      <td>235595</td>\n      <td>878669</td>\n      <td>208964</td>\n      <td>B</td>\n      <td>polB</td>\n      <td>1</td>\n      <td>GCF_000006765.1</td>\n      <td>208964</td>\n      <td>DNA polymerase II</td>\n    </tr>\n    <tr>\n      <th>2</th>\n      <td>15596120</td>\n      <td>DNA polymerase IV [Pseudomonas aeruginosa PAO1]</td>\n      <td>235035</td>\n      <td>881987</td>\n      <td>208964</td>\n      <td>Y</td>\n      <td>dinB</td>\n      <td>1</td>\n      <td>GCF_000006765.1</td>\n      <td>208964</td>\n      <td>DNA polymerase IV</td>\n    </tr>\n    <tr>\n      <th>3</th>\n      <td>308154503</td>\n      <td>error-prone DNA polymerase [Pseudomonas aerugi...</td>\n      <td>235553</td>\n      <td>880686</td>\n      <td>208964</td>\n      <td>C</td>\n      <td>PA0669</td>\n      <td>1</td>\n      <td>GCF_000006765.1</td>\n      <td>208964</td>\n      <td>error-prone DNA polymerase</td>\n    </tr>\n    <tr>\n      <th>4</th>\n      <td>15598836</td>\n      <td>DNA polymerase III subunit alpha [Pseudomonas ...</td>\n      <td>235554</td>\n      <td>880490</td>\n      <td>208964</td>\n      <td>C</td>\n      <td>dnaE</td>\n      <td>1</td>\n      <td>GCF_000006765.1</td>\n      <td>208964</td>\n      <td>DNA polymerase III subunit alpha</td>\n    </tr>\n    <tr>\n      <th>5</th>\n      <td>15595867</td>\n      <td>hypothetical protein PA0670 [Pseudomonas aerug...</td>\n      <td>176458</td>\n      <td>880683</td>\n      <td>208964</td>\n      <td>Y</td>\n      <td>PA0670</td>\n      <td>1</td>\n      <td>GCF_000006765.1</td>\n      <td>208964</td>\n      <td>hypothetical protein</td>\n    </tr>\n  </tbody>\n</table>\n</div>"
     },
     "execution_count": 8,
     "metadata": {},
     "output_type": "execute_result"
    }
   ],
   "source": [
    "pandas.merge(protein, genes, how=\"left\", on=[\"gene_id\"])"
   ],
   "metadata": {
    "collapsed": false
   }
  },
  {
   "cell_type": "code",
   "execution_count": 9,
   "outputs": [
    {
     "data": {
      "text/plain": "   taxon_id                         name  species_id                 species  \\\n0    208964  Pseudomonas aeruginosa PAO1         287  Pseudomonas aeruginosa   \n\n   genus_id        genus  family_id            family  order_id  \\\n0       286  Pseudomonas     135621  Pseudomonadaceae     72274   \n\n             order  ...          phylum                     organism  \\\n0  Pseudomonadales  ...  Proteobacteria  Pseudomonas aeruginosa PAO1   \n\n         accession gc_count seq_length chromosomes  gene_total  \\\n0  GCF_000006765.1  4169320    6264404           1        5697   \n\n   gene_num_protein_coding  gene_num_non_coding gene_num_pseudogene  \n0                     5572                  106                  19  \n\n[1 rows x 23 columns]",
      "text/html": "<div>\n<style scoped>\n    .dataframe tbody tr th:only-of-type {\n        vertical-align: middle;\n    }\n\n    .dataframe tbody tr th {\n        vertical-align: top;\n    }\n\n    .dataframe thead th {\n        text-align: right;\n    }\n</style>\n<table border=\"1\" class=\"dataframe\">\n  <thead>\n    <tr style=\"text-align: right;\">\n      <th></th>\n      <th>taxon_id</th>\n      <th>name</th>\n      <th>species_id</th>\n      <th>species</th>\n      <th>genus_id</th>\n      <th>genus</th>\n      <th>family_id</th>\n      <th>family</th>\n      <th>order_id</th>\n      <th>order</th>\n      <th>...</th>\n      <th>phylum</th>\n      <th>organism</th>\n      <th>accession</th>\n      <th>gc_count</th>\n      <th>seq_length</th>\n      <th>chromosomes</th>\n      <th>gene_total</th>\n      <th>gene_num_protein_coding</th>\n      <th>gene_num_non_coding</th>\n      <th>gene_num_pseudogene</th>\n    </tr>\n  </thead>\n  <tbody>\n    <tr>\n      <th>0</th>\n      <td>208964</td>\n      <td>Pseudomonas aeruginosa PAO1</td>\n      <td>287</td>\n      <td>Pseudomonas aeruginosa</td>\n      <td>286</td>\n      <td>Pseudomonas</td>\n      <td>135621</td>\n      <td>Pseudomonadaceae</td>\n      <td>72274</td>\n      <td>Pseudomonadales</td>\n      <td>...</td>\n      <td>Proteobacteria</td>\n      <td>Pseudomonas aeruginosa PAO1</td>\n      <td>GCF_000006765.1</td>\n      <td>4169320</td>\n      <td>6264404</td>\n      <td>1</td>\n      <td>5697</td>\n      <td>5572</td>\n      <td>106</td>\n      <td>19</td>\n    </tr>\n  </tbody>\n</table>\n<p>1 rows × 23 columns</p>\n</div>"
     },
     "execution_count": 9,
     "metadata": {},
     "output_type": "execute_result"
    }
   ],
   "source": [
    "pandas.merge(taxon, assm, how=\"left\", on=[\"taxon_id\"])"
   ],
   "metadata": {
    "collapsed": false
   }
  },
  {
   "cell_type": "code",
   "execution_count": 10,
   "outputs": [
    {
     "data": {
      "text/plain": "   taxon_id                         name  species_id                 species  \\\n0    208964  Pseudomonas aeruginosa PAO1         287  Pseudomonas aeruginosa   \n1    208964  Pseudomonas aeruginosa PAO1         287  Pseudomonas aeruginosa   \n2    208964  Pseudomonas aeruginosa PAO1         287  Pseudomonas aeruginosa   \n3    208964  Pseudomonas aeruginosa PAO1         287  Pseudomonas aeruginosa   \n4    208964  Pseudomonas aeruginosa PAO1         287  Pseudomonas aeruginosa   \n5    208964  Pseudomonas aeruginosa PAO1         287  Pseudomonas aeruginosa   \n\n   genus_id        genus  family_id            family  order_id  \\\n0       286  Pseudomonas     135621  Pseudomonadaceae     72274   \n1       286  Pseudomonas     135621  Pseudomonadaceae     72274   \n2       286  Pseudomonas     135621  Pseudomonadaceae     72274   \n3       286  Pseudomonas     135621  Pseudomonadaceae     72274   \n4       286  Pseudomonas     135621  Pseudomonadaceae     72274   \n5       286  Pseudomonas     135621  Pseudomonadaceae     72274   \n\n             order  ...  chromosomes gene_total  gene_num_protein_coding  \\\n0  Pseudomonadales  ...            1       5697                     5572   \n1  Pseudomonadales  ...            1       5697                     5572   \n2  Pseudomonadales  ...            1       5697                     5572   \n3  Pseudomonadales  ...            1       5697                     5572   \n4  Pseudomonadales  ...            1       5697                     5572   \n5  Pseudomonadales  ...            1       5697                     5572   \n\n  gene_num_non_coding gene_num_pseudogene protein_id  \\\n0                 106                  19   15600686   \n1                 106                  19   15597083   \n2                 106                  19   15596120   \n3                 106                  19  308154503   \n4                 106                  19   15598836   \n5                 106                  19   15595867   \n\n                                       protein_title  cdd_id  gene_id  \\\n0     DNA polymerase I [Pseudomonas aeruginosa PAO1]  235591   877794   \n1    DNA polymerase II [Pseudomonas aeruginosa PAO1]  235595   878669   \n2    DNA polymerase IV [Pseudomonas aeruginosa PAO1]  235035   881987   \n3  error-prone DNA polymerase [Pseudomonas aerugi...  235553   880686   \n4  DNA polymerase III subunit alpha [Pseudomonas ...  235554   880490   \n5  hypothetical protein PA0670 [Pseudomonas aerug...  176458   880683   \n\n  poly_type  \n0         A  \n1         B  \n2         Y  \n3         C  \n4         C  \n5         Y  \n\n[6 rows x 28 columns]",
      "text/html": "<div>\n<style scoped>\n    .dataframe tbody tr th:only-of-type {\n        vertical-align: middle;\n    }\n\n    .dataframe tbody tr th {\n        vertical-align: top;\n    }\n\n    .dataframe thead th {\n        text-align: right;\n    }\n</style>\n<table border=\"1\" class=\"dataframe\">\n  <thead>\n    <tr style=\"text-align: right;\">\n      <th></th>\n      <th>taxon_id</th>\n      <th>name</th>\n      <th>species_id</th>\n      <th>species</th>\n      <th>genus_id</th>\n      <th>genus</th>\n      <th>family_id</th>\n      <th>family</th>\n      <th>order_id</th>\n      <th>order</th>\n      <th>...</th>\n      <th>chromosomes</th>\n      <th>gene_total</th>\n      <th>gene_num_protein_coding</th>\n      <th>gene_num_non_coding</th>\n      <th>gene_num_pseudogene</th>\n      <th>protein_id</th>\n      <th>protein_title</th>\n      <th>cdd_id</th>\n      <th>gene_id</th>\n      <th>poly_type</th>\n    </tr>\n  </thead>\n  <tbody>\n    <tr>\n      <th>0</th>\n      <td>208964</td>\n      <td>Pseudomonas aeruginosa PAO1</td>\n      <td>287</td>\n      <td>Pseudomonas aeruginosa</td>\n      <td>286</td>\n      <td>Pseudomonas</td>\n      <td>135621</td>\n      <td>Pseudomonadaceae</td>\n      <td>72274</td>\n      <td>Pseudomonadales</td>\n      <td>...</td>\n      <td>1</td>\n      <td>5697</td>\n      <td>5572</td>\n      <td>106</td>\n      <td>19</td>\n      <td>15600686</td>\n      <td>DNA polymerase I [Pseudomonas aeruginosa PAO1]</td>\n      <td>235591</td>\n      <td>877794</td>\n      <td>A</td>\n    </tr>\n    <tr>\n      <th>1</th>\n      <td>208964</td>\n      <td>Pseudomonas aeruginosa PAO1</td>\n      <td>287</td>\n      <td>Pseudomonas aeruginosa</td>\n      <td>286</td>\n      <td>Pseudomonas</td>\n      <td>135621</td>\n      <td>Pseudomonadaceae</td>\n      <td>72274</td>\n      <td>Pseudomonadales</td>\n      <td>...</td>\n      <td>1</td>\n      <td>5697</td>\n      <td>5572</td>\n      <td>106</td>\n      <td>19</td>\n      <td>15597083</td>\n      <td>DNA polymerase II [Pseudomonas aeruginosa PAO1]</td>\n      <td>235595</td>\n      <td>878669</td>\n      <td>B</td>\n    </tr>\n    <tr>\n      <th>2</th>\n      <td>208964</td>\n      <td>Pseudomonas aeruginosa PAO1</td>\n      <td>287</td>\n      <td>Pseudomonas aeruginosa</td>\n      <td>286</td>\n      <td>Pseudomonas</td>\n      <td>135621</td>\n      <td>Pseudomonadaceae</td>\n      <td>72274</td>\n      <td>Pseudomonadales</td>\n      <td>...</td>\n      <td>1</td>\n      <td>5697</td>\n      <td>5572</td>\n      <td>106</td>\n      <td>19</td>\n      <td>15596120</td>\n      <td>DNA polymerase IV [Pseudomonas aeruginosa PAO1]</td>\n      <td>235035</td>\n      <td>881987</td>\n      <td>Y</td>\n    </tr>\n    <tr>\n      <th>3</th>\n      <td>208964</td>\n      <td>Pseudomonas aeruginosa PAO1</td>\n      <td>287</td>\n      <td>Pseudomonas aeruginosa</td>\n      <td>286</td>\n      <td>Pseudomonas</td>\n      <td>135621</td>\n      <td>Pseudomonadaceae</td>\n      <td>72274</td>\n      <td>Pseudomonadales</td>\n      <td>...</td>\n      <td>1</td>\n      <td>5697</td>\n      <td>5572</td>\n      <td>106</td>\n      <td>19</td>\n      <td>308154503</td>\n      <td>error-prone DNA polymerase [Pseudomonas aerugi...</td>\n      <td>235553</td>\n      <td>880686</td>\n      <td>C</td>\n    </tr>\n    <tr>\n      <th>4</th>\n      <td>208964</td>\n      <td>Pseudomonas aeruginosa PAO1</td>\n      <td>287</td>\n      <td>Pseudomonas aeruginosa</td>\n      <td>286</td>\n      <td>Pseudomonas</td>\n      <td>135621</td>\n      <td>Pseudomonadaceae</td>\n      <td>72274</td>\n      <td>Pseudomonadales</td>\n      <td>...</td>\n      <td>1</td>\n      <td>5697</td>\n      <td>5572</td>\n      <td>106</td>\n      <td>19</td>\n      <td>15598836</td>\n      <td>DNA polymerase III subunit alpha [Pseudomonas ...</td>\n      <td>235554</td>\n      <td>880490</td>\n      <td>C</td>\n    </tr>\n    <tr>\n      <th>5</th>\n      <td>208964</td>\n      <td>Pseudomonas aeruginosa PAO1</td>\n      <td>287</td>\n      <td>Pseudomonas aeruginosa</td>\n      <td>286</td>\n      <td>Pseudomonas</td>\n      <td>135621</td>\n      <td>Pseudomonadaceae</td>\n      <td>72274</td>\n      <td>Pseudomonadales</td>\n      <td>...</td>\n      <td>1</td>\n      <td>5697</td>\n      <td>5572</td>\n      <td>106</td>\n      <td>19</td>\n      <td>15595867</td>\n      <td>hypothetical protein PA0670 [Pseudomonas aerug...</td>\n      <td>176458</td>\n      <td>880683</td>\n      <td>Y</td>\n    </tr>\n  </tbody>\n</table>\n<p>6 rows × 28 columns</p>\n</div>"
     },
     "execution_count": 10,
     "metadata": {},
     "output_type": "execute_result"
    }
   ],
   "source": [
    "full_speices_data = pandas.merge(taxon, assm, how=\"left\", on=[\"taxon_id\"])\n",
    "pandas.merge(full_speices_data, protein,  how=\"left\", on=[\"taxon_id\"])"
   ],
   "metadata": {
    "collapsed": false
   }
  },
  {
   "cell_type": "code",
   "execution_count": null,
   "outputs": [],
   "source": [],
   "metadata": {
    "collapsed": false
   }
  }
 ],
 "metadata": {
  "kernelspec": {
   "display_name": "Python 3",
   "language": "python",
   "name": "python3"
  },
  "language_info": {
   "codemirror_mode": {
    "name": "ipython",
    "version": 2
   },
   "file_extension": ".py",
   "mimetype": "text/x-python",
   "name": "python",
   "nbconvert_exporter": "python",
   "pygments_lexer": "ipython2",
   "version": "2.7.6"
  }
 },
 "nbformat": 4,
 "nbformat_minor": 0
}
